{
  "nbformat": 4,
  "nbformat_minor": 0,
  "metadata": {
    "colab": {
      "name": "Materi For BIOSPIN",
      "provenance": [],
      "collapsed_sections": [],
      "authorship_tag": "ABX9TyOs22k+4Dn2z+39ChQLWBfm",
      "include_colab_link": true
    },
    "kernelspec": {
      "name": "python3",
      "display_name": "Python 3"
    }
  },
  "cells": [
    {
      "cell_type": "markdown",
      "metadata": {
        "id": "view-in-github",
        "colab_type": "text"
      },
      "source": [
        "<a href=\"https://colab.research.google.com/github/Abelbimaw/BioSpin-material/blob/main/Materi-for-BioSPIN.ipynb\" target=\"_parent\"><img src=\"https://colab.research.google.com/assets/colab-badge.svg\" alt=\"Open In Colab\"/></a>"
      ]
    },
    {
      "cell_type": "markdown",
      "metadata": {
        "id": "0a8SIJUTLAmB"
      },
      "source": [
        "# **Import Library**"
      ]
    },
    {
      "cell_type": "code",
      "metadata": {
        "id": "TgJGdH_naXOy"
      },
      "source": [
        "#%matplotlib inline\n",
        "import numpy as np\n",
        "import matplotlib.pyplot as plt\n",
        "from __future__ import division"
      ],
      "execution_count": 1,
      "outputs": []
    },
    {
      "cell_type": "code",
      "metadata": {
        "id": "enSo7zecasXt"
      },
      "source": [
        "freq = 50\n",
        "time_period= 1/freq # 20 ms\n",
        "time = time_period*2 #40\n",
        "amplitude=2"
      ],
      "execution_count": 2,
      "outputs": []
    },
    {
      "cell_type": "code",
      "metadata": {
        "id": "-PT-UJSzbAIr"
      },
      "source": [
        "t=np.linspace(0,time,500)\n",
        "x = 2*3.14*freq*t"
      ],
      "execution_count": 16,
      "outputs": []
    },
    {
      "cell_type": "code",
      "metadata": {
        "id": "WP2O7RAybRgS"
      },
      "source": [
        "yc=amplitude*np.sin(x) # + 1*np.random.rand(len(x)) # for gaussian use randn"
      ],
      "execution_count": 17,
      "outputs": []
    },
    {
      "cell_type": "code",
      "metadata": {
        "id": "8RKcffW2bn0Y"
      },
      "source": [
        "Fsampling = 1000\n",
        "ts=1/Fsampling\n",
        "txs=np.arange(0,(time+ts/2),ts)\n",
        "\n",
        "r=np.round(len(t)/len(txs))\n",
        "xts= np.arange(0,len(t),r).astype(int)\n",
        "xs=x[xts]\n",
        "ys=yc[xts]"
      ],
      "execution_count": 18,
      "outputs": []
    },
    {
      "cell_type": "code",
      "metadata": {
        "colab": {
          "base_uri": "https://localhost:8080/",
          "height": 320
        },
        "id": "i0xyYk44nK47",
        "outputId": "d4ededf2-7dc1-4ec7-fc78-d9b382f0584d"
      },
      "source": [
        "figl=plt.figure(figsize=(10,4))\n",
        "axesl=figl.add_axes([0.1,0.1,0.8,0.8])\n",
        "\n",
        "#axesl.plot(x,yc,color='red', linewidth=3, linestyle='-')\n",
        "#axesl.plot(xs,ys,color='blue', linestyle=' ', marker='o')\n",
        "axesl.bar(xs,ys,color='blue', bottom=0, width=0.02)\n",
        "axesl.axhline(0, color='black', linewidth=3, linestyle='-')\n",
        "axesl.set_ylim([-3,3])\n",
        "axesl.set_xlim([0, np.max(x)])\n",
        "\n",
        "#axesl.set_xticks((2*3.14*freq)*(np.arange(0,41,5)**len-3))\n",
        "#axesl.set_xticklabels(np.arange(0,41,5), fontsize=14);\n",
        "\n",
        "#axesl.set_yticks([-2,-1,0,1,2]);\n",
        "#axesl.set_yticklabels([-2,-1,0,1,2], fontsize=14)\n",
        "axesl.set_xlabel(\"time (ms)\", fontsize=18);\n",
        "axesl.set_ylabel(\"Amplitude\", fontsize=18);\n",
        "axesl.set_title(\"Signal Vs Time\", fontsize=18);"
      ],
      "execution_count": 46,
      "outputs": [
        {
          "output_type": "display_data",
          "data": {
            "image/png": "[encoded data removed]",
            "text/plain": [
              "<Figure size 720x288 with 1 Axes>"
            ]
          },
          "metadata": {
            "tags": [],
            "needs_background": "light"
          }
        }
      ]
    },
    {
      "cell_type": "code",
      "metadata": {
        "id": "xxMUYQYLqKtN"
      },
      "source": [
        ""
      ],
      "execution_count": null,
      "outputs": []
    }
  ]
}